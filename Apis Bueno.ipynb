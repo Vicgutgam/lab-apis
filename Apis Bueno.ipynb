{
 "cells": [
  {
   "cell_type": "markdown",
   "id": "3e53ee2b",
   "metadata": {},
   "source": [
    "## Exercise 1: Discovering New Music through Your Favorite Artists\n",
    "\n",
    "**Objective:** \n",
    "Uncover new music by exploring the top tracks of your favorite artists and their related artists.\n",
    "\n",
    "**Instructions:**\n",
    "\n",
    "1. **List Your Favorite Artists**:\n",
    "    - Make a list of your three favorite artists and store it in a variable named `artists`.\n",
    "    - Example: `artists = [\"Los Fabulosos Cadillacs\", \"Manu Chao\", \"Muchachito Bombo Infierno\"]`.\n",
    "\n",
    "2. **Fetch Top Tracks**:\n",
    "    - Write a function named `get_top_tracks`.\n",
    "    - This function should accept an artist's name and return the name of the first 5 top tracks by that artist.\n",
    "    - Use the function `get_top_tracks` to get the first 5 top tracks for each artist in your `artists` list and store the results in a new list named `top_tracks_list`.\n",
    "\n",
    "3. **Discover Related Artists**:\n",
    "    - Write a function named `find_related_artists`.\n",
    "    - This function should accept an artist's name and return the names of the first 5 artists related to the provided artist.\n",
    "    - Store the results in a list named `related_artists_list`.\n",
    "\n",
    "**Challenge:** \n",
    "Combine the above steps to create a playlist that includes the top tracks of your favorite artists and the top tracks of the artists related to them."
   ]
  },
  {
   "cell_type": "code",
   "execution_count": 5,
   "id": "1125d37c",
   "metadata": {},
   "outputs": [],
   "source": [
    "import pandas as pd\n",
    "import argparse\n",
    "CLIENT_ID = \"4109b2d9f5014671863bb2df1d1fbdd3\"\n",
    "CLIENT_SECRET = \"5cb719fae80c4191a9c0b288f51bfe50\"\n",
    "\n",
    "import spotipy\n",
    "from spotipy.oauth2 import SpotifyClientCredentials\n",
    "\n",
    "#Initialize SpotiPy with user credentials\n",
    "sp = spotipy.Spotify(auth_manager=SpotifyClientCredentials(client_id=CLIENT_ID,\n",
    "                                                           client_secret=CLIENT_SECRET))"
   ]
  },
  {
   "cell_type": "code",
   "execution_count": 13,
   "id": "e2ad23af",
   "metadata": {
    "scrolled": true
   },
   "outputs": [],
   "source": [
    "grandes=[\"La Raiz\",\"Albertucho\",\"TéCanela\"]\n",
    "\n",
    "\n",
    "def mejores_canciones (grandes):\n",
    "    for artista in grandes:\n",
    "        popularidad_artistas = {}\n",
    "        busqueda1=sp.search(q=artista, limit=50)\n",
    "        info=búsqueda1['tracks']['items']\n",
    "        tablas_grandes=pd.json_normalize(info)\n",
    "        for fila, columna in tablas_grandes.iterrows():\n",
    "            popularidad_artistas[columna[\"name\"]] = columna[\"popularity\"]\n",
    "        mayor_popularidad = sorted(popularidad_artistas, key=popularidad_artistas.get, reverse=True)[:5]\n",
    "        print(f\"Las canciones más famosas de {artista} son:\")\n",
    "        for cancion in mayor_popularidad:\n",
    "            print(f\"{cancion}: {popularidad_artistas[cancion]}\")"
   ]
  },
  {
   "cell_type": "code",
   "execution_count": 14,
   "id": "8220849e",
   "metadata": {},
   "outputs": [
    {
     "name": "stdout",
     "output_type": "stream",
     "text": [
      "Las canciones más famosas de La Raiz son:\n",
      "A la Sombra de la Sierra: 58\n",
      "Entre Poetas y Presos: 57\n",
      "La Raza Michoacana: 56\n",
      "La Raza: 56\n",
      "Hasta La Raíz - Rerecorded: 54\n",
      "Las canciones más famosas de Albertucho son:\n",
      "A la Sombra de la Sierra: 58\n",
      "Entre Poetas y Presos: 57\n",
      "La Raza Michoacana: 56\n",
      "La Raza: 56\n",
      "Hasta La Raíz - Rerecorded: 54\n",
      "Las canciones más famosas de TéCanela son:\n",
      "A la Sombra de la Sierra: 58\n",
      "Entre Poetas y Presos: 57\n",
      "La Raza Michoacana: 56\n",
      "La Raza: 56\n",
      "Hasta La Raíz - Rerecorded: 54\n"
     ]
    }
   ],
   "source": [
    "mejores_canciones (grandes)"
   ]
  },
  {
   "cell_type": "markdown",
   "id": "1b9876d1",
   "metadata": {},
   "source": [
    "#ejercicio 1.3"
   ]
  },
  {
   "cell_type": "code",
   "execution_count": 6,
   "id": "ef34a9b3",
   "metadata": {},
   "outputs": [
    {
     "name": "stdout",
     "output_type": "stream",
     "text": [
      "La Gossa Sorda\n",
      "Aspencat\n",
      "Ciudad Jara\n",
      "ZOO\n",
      "Auxili\n"
     ]
    }
   ],
   "source": [
    "def artistas_relacionados (artista):\n",
    "    busq = sp.search(artista, limit=1, type=\"artist\")\n",
    "    id_cantante = busq[\"artists\"]['items']\n",
    "    dataartista = pd.json_normalize(id_cantante)\n",
    "    dataartista[\"id\"][0]\n",
    "    artistas_realacionados = sp.artist_related_artists(dataartista[\"id\"][0])\n",
    "    for index in range(5):\n",
    "        artistas_realacionados[\"artists\"][index][\"name\"]\n",
    "        print(artistas_realacionados[\"artists\"][index][\"name\"])\n",
    "\n",
    "\n",
    "\n",
    "artistas_relacionados ('La Raiz')"
   ]
  },
  {
   "cell_type": "markdown",
   "id": "b1749d4b",
   "metadata": {},
   "source": [
    "Exercise 2: Unraveling the World of Playlists\n",
    "Featured Exploration:\n",
    "\n",
    "Fetch the list of Spotify's current featured playlists.\n",
    "Extract and display the names and IDs of the top 5 featured playlists.\n",
    "Deep Dive:\n",
    "\n",
    "Choose any one of the top 5 featured playlists (you can choose the one you personally find most interesting or simply pick one randomly).\n",
    "Fetch and display its name, description, and total track count.\n",
    "Track-tastic:\n",
    "\n",
    "Extract and display the names of the first 10 tracks in the chosen playlist.\n",
    "Artistic Flair:\n",
    "\n",
    "Create a dictionary where the keys are the names of the first 10 tracks, and the values are lists containing the names of the artists associated with each track.\n",
    "For example: {\"TrackName1\": [\"Artist1\", \"Artist2\"], \"TrackName2\": [\"Artist3\"]}"
   ]
  },
  {
   "cell_type": "markdown",
   "id": "3415c4a7",
   "metadata": {},
   "source": [
    "Featured Exploration:\n",
    "\n",
    "Fetch the list of Spotify's current featured playlists.\n",
    "Extract and display the names and IDs of the top 5 featured playlists."
   ]
  },
  {
   "cell_type": "code",
   "execution_count": 35,
   "id": "cb2d3187",
   "metadata": {},
   "outputs": [
    {
     "name": "stdout",
     "output_type": "stream",
     "text": [
      "                name                      id\n",
      "0      Éxitos España  37i9dQZF1DXaxEKcoCdWHD\n",
      "1              PEGAO  37i9dQZF1DX1HCSfq0nSal\n",
      "2           temardos  37i9dQZF1DX8jrCoV9Ccve\n",
      "3        Viva Latino  37i9dQZF1DX10zKzsJ2jva\n",
      "4  Viral España 2024  37i9dQZF1DWVJv1UsWItkB\n"
     ]
    }
   ],
   "source": [
    "lista = sp.featured_playlists()\n",
    "elementos = lista[\"playlists\"][\"items\"]\n",
    "df_items = pd.DataFrame(elementos)\n",
    "nombre = df_items[[\"name\",\"id\"]].head(5)\n",
    "print(nombre)"
   ]
  },
  {
   "cell_type": "markdown",
   "id": "9c5576b9",
   "metadata": {},
   "source": [
    "Deep Dive:\n",
    "\n",
    "Choose any one of the top 5 featured playlists (you can choose the one you personally find most interesting or simply pick one randomly).\n",
    "Fetch and display its name, description, and total track count."
   ]
  },
  {
   "cell_type": "code",
   "execution_count": 40,
   "id": "cd1e6d73",
   "metadata": {},
   "outputs": [],
   "source": [
    "playlist2 = sp.playlist(\"37i9dQZF1DWVJv1UsWItkB\")\n",
    "playlist3 = pd.json_normalize(playlist2)"
   ]
  },
  {
   "cell_type": "code",
   "execution_count": 48,
   "id": "72f3080d",
   "metadata": {},
   "outputs": [
    {
     "name": "stdout",
     "output_type": "stream",
     "text": [
      "<class 'pandas.core.frame.DataFrame'>\n",
      "RangeIndex: 1 entries, 0 to 0\n",
      "Data columns (total 27 columns):\n",
      " #   Column                       Non-Null Count  Dtype \n",
      "---  ------                       --------------  ----- \n",
      " 0   collaborative                1 non-null      bool  \n",
      " 1   description                  1 non-null      object\n",
      " 2   href                         1 non-null      object\n",
      " 3   id                           1 non-null      object\n",
      " 4   images                       1 non-null      object\n",
      " 5   name                         1 non-null      object\n",
      " 6   primary_color                1 non-null      object\n",
      " 7   public                       1 non-null      bool  \n",
      " 8   snapshot_id                  1 non-null      object\n",
      " 9   type                         1 non-null      object\n",
      " 10  uri                          1 non-null      object\n",
      " 11  external_urls.spotify        1 non-null      object\n",
      " 12  followers.href               0 non-null      object\n",
      " 13  followers.total              1 non-null      int64 \n",
      " 14  owner.display_name           1 non-null      object\n",
      " 15  owner.external_urls.spotify  1 non-null      object\n",
      " 16  owner.href                   1 non-null      object\n",
      " 17  owner.id                     1 non-null      object\n",
      " 18  owner.type                   1 non-null      object\n",
      " 19  owner.uri                    1 non-null      object\n",
      " 20  tracks.href                  1 non-null      object\n",
      " 21  tracks.items                 1 non-null      object\n",
      " 22  tracks.limit                 1 non-null      int64 \n",
      " 23  tracks.next                  0 non-null      object\n",
      " 24  tracks.offset                1 non-null      int64 \n",
      " 25  tracks.previous              0 non-null      object\n",
      " 26  tracks.total                 1 non-null      int64 \n",
      "dtypes: bool(2), int64(4), object(21)\n",
      "memory usage: 334.0+ bytes\n"
     ]
    }
   ],
   "source": [
    "playlist3.info()"
   ]
  },
  {
   "cell_type": "code",
   "execution_count": 44,
   "id": "e8ca6151",
   "metadata": {},
   "outputs": [
    {
     "name": "stdout",
     "output_type": "stream",
     "text": [
      "0    así suena internet, con Pitbull\n",
      "Name: description, dtype: object\n"
     ]
    }
   ],
   "source": [
    "print(playlist3['description'])"
   ]
  },
  {
   "cell_type": "code",
   "execution_count": 45,
   "id": "14ce0cdd",
   "metadata": {},
   "outputs": [
    {
     "name": "stdout",
     "output_type": "stream",
     "text": [
      "0    Viral España 2024\n",
      "Name: name, dtype: object\n"
     ]
    }
   ],
   "source": [
    "print(playlist3['name'])"
   ]
  },
  {
   "cell_type": "code",
   "execution_count": 49,
   "id": "c0b0ba93",
   "metadata": {},
   "outputs": [
    {
     "name": "stdout",
     "output_type": "stream",
     "text": [
      "0    93\n",
      "Name: tracks.total, dtype: int64\n"
     ]
    }
   ],
   "source": [
    "print(playlist3['tracks.total'])"
   ]
  },
  {
   "cell_type": "code",
   "execution_count": 54,
   "id": "61ccb30f",
   "metadata": {},
   "outputs": [
    {
     "data": {
      "text/plain": [
       "0    Spotify\n",
       "Name: owner.display_name, dtype: object"
      ]
     },
     "execution_count": 54,
     "metadata": {},
     "output_type": "execute_result"
    }
   ],
   "source": [
    "playlist3['owner.display_name'].head()"
   ]
  },
  {
   "cell_type": "markdown",
   "id": "4f6fd90b",
   "metadata": {},
   "source": [
    "Track-tastic:\n",
    "\n",
    "Extract and display the names of the first 10 tracks in the chosen playlist."
   ]
  },
  {
   "cell_type": "code",
   "execution_count": 68,
   "id": "d545ee36",
   "metadata": {},
   "outputs": [],
   "source": [
    "canlist = sp.playlist_tracks(\"37i9dQZF1DWVJv1UsWItkB\")\n",
    "\n",
    "for cancion in canlist['items']:\n",
    "    if x < 5:\n",
    "        nombre = cancion['track']['name']\n",
    "        print(nombre)\n",
    "        x += 1\n",
    "    else:\n",
    "        break"
   ]
  },
  {
   "cell_type": "markdown",
   "id": "5bce1328",
   "metadata": {},
   "source": [
    "Artistic Flair:\n",
    "\n",
    "Create a dictionary where the keys are the names of the first 10 tracks, and the values are lists containing the names of the artists associated with each track.\n",
    "For example: {\"TrackName1\": [\"Artist1\", \"Artist2\"], \"TrackName2\": [\"Artist3\"]}"
   ]
  },
  {
   "cell_type": "code",
   "execution_count": 95,
   "id": "07c2572f",
   "metadata": {},
   "outputs": [],
   "source": [
    "dicartistas={}\n",
    "canlist3 = canlist[\"items\"]\n",
    "canlist4 = pd.json_normalize(canlist3)      \n",
    "x= 0       "
   ]
  },
  {
   "cell_type": "code",
   "execution_count": 100,
   "id": "7bf19c93",
   "metadata": {},
   "outputs": [],
   "source": [
    "for cancion in canlist[\"items\"]:\n",
    "    if x < 10:\n",
    "        listanom = cancion['track']['name']\n",
    "        nombresartis = []\n",
    "        for artista in cancion['track']['artists']:\n",
    "            nombresartis.append(artista[\"name\"])\n",
    "        dicartistas[listanom] = nombresartis\n",
    "        x += 1\n",
    "    else:\n",
    "        break"
   ]
  },
  {
   "cell_type": "code",
   "execution_count": 101,
   "id": "a6ec2a64",
   "metadata": {},
   "outputs": [
    {
     "name": "stdout",
     "output_type": "stream",
     "text": [
      "{\"Guantanamera (She's Hot)\": ['Pitbull'], 'Buscando Money': ['TWENTY SIX', 'Tayson Kryss'], 'Milo J: Bzrp Music Sessions, Vol. 57': ['Bizarrap', 'Milo j'], 'Desespero': ['Morad', 'Rvfv'], 'Celine (with Kidd Keo)': ['Ghost Killer Track', 'Kidd Keo'], 'Vois sur ton chemin - Techno Mix': ['BENNETT'], 'Mama Me Dice': ['Morad'], 'Rayos de Sol': ['José de Rico', 'Henry Mendez'], \"Felicidad (De la serie 'Berlin' de Netflix)\": ['Pedro Alonso', 'Tristan Ulloa'], 'Síguelo Bailando': ['Ozuna']}\n"
     ]
    }
   ],
   "source": [
    "print(dicartistas)"
   ]
  }
 ],
 "metadata": {
  "kernelspec": {
   "display_name": "Python 3 (ipykernel)",
   "language": "python",
   "name": "python3"
  },
  "language_info": {
   "codemirror_mode": {
    "name": "ipython",
    "version": 3
   },
   "file_extension": ".py",
   "mimetype": "text/x-python",
   "name": "python",
   "nbconvert_exporter": "python",
   "pygments_lexer": "ipython3",
   "version": "3.11.5"
  }
 },
 "nbformat": 4,
 "nbformat_minor": 5
}
